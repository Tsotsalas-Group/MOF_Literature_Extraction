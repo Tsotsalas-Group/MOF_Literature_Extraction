{
 "cells": [
  {
   "cell_type": "markdown",
   "metadata": {
    "collapsed": true,
    "pycharm": {
     "name": "#%% md\n"
    }
   },
   "source": [
    "# Literature Extraction Demo\n",
    "\n",
    "In this notebook, we will show you how the extraction works.\n",
    "\n",
    "Along with this notebook, we also show you a DemoDatabase."
   ]
  },
  {
   "cell_type": "markdown",
   "source": [
    "## read the item from the database\n",
    "In the SnyMOF database, we store general information of the structure inside an HTML file.\n",
    "Since HTML files can be viewed by Web Browser (i.e., Google Chrome, Mozilla Firefox and Internet Explorer)\n",
    "the general information can be accessed by almost every computer users.\n",
    "\n",
    "\n",
    "Here we choose 2 strucutres as an example:\n",
    "NUCPIM_clean\n",
    "NUCPEI_clean\n",
    "\n",
    "We choose them since they come from a same paper, and that paper is publicly accessible:\n",
    "\n",
    ">Liu, Bo, et al. \"Selective CO 2 adsorption in a microporous metal–organic framework with suitable pore sizes and open metal sites.\" Inorganic Chemistry Frontiers 2.6 (2015): 550-557.\n",
    "\n",
    "You can find the general information of these two structures inside:\n",
    "```\n",
    "DemoDatabase/data_base/[name of the structure]\n",
    "```"
   ],
   "metadata": {
    "collapsed": false,
    "pycharm": {
     "name": "#%% md\n"
    }
   }
  },
  {
   "cell_type": "markdown",
   "source": [
    "We first some information from the database"
   ],
   "metadata": {
    "collapsed": false,
    "pycharm": {
     "name": "#%% md\n"
    }
   }
  },
  {
   "cell_type": "code",
   "execution_count": 1,
   "outputs": [
    {
     "name": "stdout",
     "output_type": "stream",
     "text": [
      "NUCPEI_clean:\n",
      "\tmetal record inside CoRE MOF Database: Zn\n",
      "\tDeposition Number inside CSD: 1033728\n",
      "\n",
      "NUCPIM_clean:\n",
      "\tmetal record inside CoRE MOF Database: Zn\n",
      "\tDeposition Number inside CSD: 1033729\n",
      "\n"
     ]
    }
   ],
   "source": [
    "import cd_tools\n",
    "from cd_tools.osvalkyrie import project_path\n",
    "import os\n",
    "lgrd = cd_tools.lgrd\n",
    "\n",
    "data_dict = {}\n",
    "for item in ['NUCPEI_clean','NUCPIM_clean']:\n",
    "    reader = cd_tools.from_html(os.path.join(project_path(),r\"DemoDatabase/data_base\"),item)\n",
    "\n",
    "    print(f'{item}:')\n",
    "    print(f'\\tmetal record inside CoRE MOF Database: {reader.core_item(\"core_All_Metals\")}')\n",
    "    print(f'\\tDeposition Number inside CSD: {reader.csd_item(\"csd_dn\")}')\n",
    "    print()\n",
    "\n",
    "    data_dict[item] = {'metal': reader.core_item(\"core_Open_Metal_Sites\"),\n",
    "                       'dn':    reader.csd_item(\"csd_dn\")}\n"
   ],
   "metadata": {
    "collapsed": false,
    "pycharm": {
     "name": "#%%\n"
    }
   }
  },
  {
   "cell_type": "markdown",
   "source": [
    "##  Literature Processing\n",
    "You can find the full content of the paper (DOI: 10.1039/C5QI00025D) inside\n",
    "```\n",
    "Code\\DemoDatabase\\Pulication\\P3535\\full_page.html\n",
    "```\n",
    "It is downloaded from the publisher's website."
   ],
   "metadata": {
    "collapsed": false,
    "pycharm": {
     "name": "#%% md\n"
    }
   }
  },
  {
   "cell_type": "markdown",
   "source": [
    "### paragraph classification\n",
    "First we should read the content and choose the paragraphs that describe the synthesis.\n",
    "\n",
    "> if something wrong happended, maybe check whether you already run:\n",
    "> ```\n",
    "> cde data download\n",
    "> ```\n",
    "> in advance"
   ],
   "metadata": {
    "collapsed": false
   }
  },
  {
   "cell_type": "code",
   "execution_count": 2,
   "outputs": [
    {
     "name": "stdout",
     "output_type": "stream",
     "text": [
      "We find 2 synthesis paragraph(s), which is (are):\n",
      "1)\n",
      "\n",
      "A mixture of Zn(NO3)2·6H2O (0.1 mmol, 0.030 g), H5L (0.04 mmol, 0.018 g), DMF (1.5 mL) and water (0.5 mL) was placed in a screw-capped vial, then the vial was capped and placed in an oven at 105 °C for 72 h. The resulting block crystals were washed with DMF three times to give 1·DMF. The yield was ∼24.0 mg (72.6% based on H5L). Anal. Calcd for C65H74N7O27.5Zn4: C, 47.17; H, 4.51; N, 5.92. Found: C, 47.02; H, 4.78; N, 5.63. IR (cm−1): 3424m, 2965w, 2932w, 2807w, 2492w, 2026w, 1660s, 1628s, 1579s, 1450w, 1435w, 1390s, 1255w, 1163w, 1104m, 1061w, 1020w, 920w, 892w, 853w, 781s, 724s, 665w, 579w, 477w.\n",
      ")\n",
      "\n",
      "2)\n",
      "\n",
      "A mixture of Zn(NO3)2·6H2O (0.1 mmol, 0.030 g), H5L (0.04 mmol, 0.018 g), DMA (1.5 mL) and water (1.0 mL) was placed in a screw-capped vial, then the vial was capped and placed in an oven at 105 °C for 72 h. The resulting block crystals were washed with DMA three times to give 1·DMA. The yield was ∼20.6 mg (60.4% based on H5L). Anal. Calcd for C64H85N6O31.5Zn4: C, 45.11; H, 5.03; N, 4.93. Found: C, 45.95; H, 4.88; N, 5.14. IR (cm−1): 3423m, 2964w, 2938w, 2807w, 2487w, 2026w, 1627s, 1506m, 1405s, 1361s, 1261m, 1190w, 1107w, 1020m, 964w, 921w, 891w, 855m, 781s, 724s, 678w, 596w, 478w.\n",
      ")\n",
      "\n"
     ]
    }
   ],
   "source": [
    "import chemdataextractor as cder\n",
    "import cd_lib.chose_para as para\n",
    "\n",
    "content_root = os.path.join(project_path(),r\"DemoDatabase\\Pulication\\P3535\")\n",
    "\n",
    "# reading the content as a object\n",
    "item_html_cde = cder.Document.from_file(os.path.join(content_root,'full_page.html'))\n",
    "item = para.cde_paras(item_html_cde)\n",
    "\n",
    "# search every paragraphs insides the contents to find whether it contains some synthesis paragraph or not?\n",
    "if item.sny_sele():\n",
    "\n",
    "    sny_para_list = item.sny_para_str()\n",
    "    pot_sny_para_no = 0\n",
    "\n",
    "    print(f'We find {len(sny_para_list)} synthesis paragraph(s), which is (are):')\n",
    "    while pot_sny_para_no < len(sny_para_list):\n",
    "        print(f'{pot_sny_para_no+1})')\n",
    "        print(f'{sny_para_list[pot_sny_para_no]})')\n",
    "        with open(os.path.join(content_root, 'pot_sny_para' + str(pot_sny_para_no) + '.txt'), 'w',\n",
    "                  encoding='utf-8') as f:\n",
    "            f.write(sny_para_list[pot_sny_para_no])\n",
    "        pot_sny_para_no += 1\n",
    "        print()\n"
   ],
   "metadata": {
    "collapsed": false,
    "pycharm": {
     "name": "#%%\n"
    }
   }
  },
  {
   "cell_type": "markdown",
   "source": [
    "Here you may find these synthesis paragraphs very similar to eah other, but they actually descripe the synthesis of 2 structures."
   ],
   "metadata": {
    "collapsed": false,
    "pycharm": {
     "name": "#%% md\n"
    }
   }
  },
  {
   "cell_type": "markdown",
   "source": [
    "### Build relations between the structure and synthesis paragraph\n",
    "To achieve this, we must know how many strucutures regesitered under this paper (DOI: 10.1039/C5QI00025D) in CSD database. you can get it from CSD python API, which I will not show you here. (Considering many institutes do not purchase this function)\n",
    "\n",
    "Also, you can go to CCDC and search it (https://www.ccdc.cam.ac.uk/structures/Search?Doi=10.1039%2FC5QI00025D&DatabaseToSearch=Published)"
   ],
   "metadata": {
    "collapsed": false
   }
  },
  {
   "cell_type": "code",
   "execution_count": 3,
   "outputs": [
    {
     "name": "stdout",
     "output_type": "stream",
     "text": [
      "Inside CSD, the paper (DOI: 10.1039/C5QI00025D) only contain 2 structures.\n"
     ]
    }
   ],
   "source": [
    "print('Inside CSD, the paper (DOI: 10.1039/C5QI00025D) only contain 2 structures.')\n",
    "\n",
    "# to check if number of extracted synthesis paragraphs matches the number of the structures\n",
    "\n",
    "if len(data_dict) == 2:\n",
    "    # Sort the structures in descending order of its Deposition Number\n",
    "    sorted(data_dict.items(), key=lambda item:int(item[1]['dn']))"
   ],
   "metadata": {
    "collapsed": false,
    "pycharm": {
     "name": "#%%\n"
    }
   }
  },
  {
   "cell_type": "markdown",
   "source": [
    "Since the extracted paragraphs are arranged in the order of appearance in the text, so the relationship of each structure has been established:\n",
    ">data_dict[0] => pot_sny_para0.txt\n",
    ">\n",
    ">data_dict[1] => pot_sny_para1.txt"
   ],
   "metadata": {
    "collapsed": false,
    "pycharm": {
     "name": "#%% md\n"
    }
   }
  },
  {
   "cell_type": "markdown",
   "source": [
    "### Use ChemicalTagger to prase the result and extract syntesis information inside\n",
    "> We use python to call terminal to use ChemicalTagger\n",
    "> If you have something wrong with the java, you also can excute these to use ChemicalTagger:\n",
    "```\n",
    "java -jar \"[root]\\Code\\_CommonRedist\\chemicalTagger-1.6-SNAPSHOT-jar-with-dependencies-file.jar\" \"[root]\\Code\\DemoDatabase\\Pulication\\P3535\\mod_pot_sny_para0.txt\" \"[root]\\Code\\DemoDatabase\\Pulication\\P3535\\chemtg0.xml\"\n",
    "java -jar \"[root]\\Code\\_CommonRedist\\chemicalTagger-1.6-SNAPSHOT-jar-with-dependencies-file.jar\" \"[root]\\Code\\DemoDatabase\\Pulication\\P3535\\mod_pot_sny_para1.txt\" \"[root]\\Code\\DemoDatabase\\Pulication\\P3535\\chemtg1.xml\"\n",
    "```\n",
    "\n",
    "> You can find all the result inside:\n",
    "```\n",
    "Code\\DemoDatabase\\Pulication\\P3535\\full_page.html\n",
    "```"
   ],
   "metadata": {
    "collapsed": false,
    "pycharm": {
     "name": "#%% md\n"
    }
   }
  },
  {
   "cell_type": "code",
   "execution_count": 4,
   "outputs": [],
   "source": [
    "import cd_lib.chetg as ctg\n",
    "chemtg_location = os.path.join(project_path(),r'_CommonRedist\\chemicalTagger-1.6-SNAPSHOT-jar-with-dependencies-file.jar')\n",
    "\n",
    "for ind in range(len(data_dict)):\n",
    "    text_loc = os.path.join(content_root, 'pot_sny_para' + str(ind) + '.txt')\n",
    "    xml_type = ctg.chemtgp(text_loc, chemtg_location= chemtg_location, opt_put='chemtg' + str(ind))\n",
    "    data_dict[list(data_dict.keys())[ind]]['xml'] = xml_type"
   ],
   "metadata": {
    "collapsed": false,
    "pycharm": {
     "name": "#%%\n"
    }
   }
  },
  {
   "cell_type": "markdown",
   "source": [
    "Then we read the result and extract synthesis information insides"
   ],
   "metadata": {
    "collapsed": false,
    "pycharm": {
     "name": "#%% md\n"
    }
   }
  },
  {
   "cell_type": "code",
   "execution_count": 5,
   "outputs": [
    {
     "name": "stdout",
     "output_type": "stream",
     "text": [
      "[2021-08-02 13:42:04,819] - [C&C] - [<ipython-input-5-1204d41b7484> file line:90] - INFO: NUCPEI_clean:['Zn(NO3)2·6H2O', None, 'Zn', 'C64H85N6O31.5Zn4', None, 'Zn']\t['H5L', None, '', 'Dimethylacetamide', 31374, 'Sol', 'water', 962, 'Sol', '1·DMA', None, '', 'H5L', None, '']\n",
      "[2021-08-02 13:42:10,058] - [C&C] - [<ipython-input-5-1204d41b7484> file line:90] - INFO: NUCPIM_clean:['Zn(NO3)2·6H2O', None, 'Zn', 'C64H85N6O31.5Zn4', None, 'Zn']\t['H5L', None, '', 'Dimethylacetamide', 31374, 'Sol', 'water', 962, 'Sol', '1·DMA', None, '', 'H5L', None, '']\n"
     ]
    }
   ],
   "source": [
    "from cd_lib import onlystr\n",
    "from cd_lib.pcplib import metal_table, nonmetal_table\n",
    "\n",
    "for i in range(len(data_dict)):\n",
    "\n",
    "    item_name = list(data_dict.keys())[i]\n",
    "\n",
    "    # read the result\n",
    "    item_file = ctg.ctg_xml_par(xml_type)\n",
    "\n",
    "    # the process to select condition\n",
    "    csv_cont = [item_name, '']\n",
    "\n",
    "    def csv_con_bp(chemical_name):\n",
    "        bp_man = ['calc', 'TGA', 'Teflon', 'plate']\n",
    "        breakpoint_list = metal_table + nonmetal_table + bp_man\n",
    "        for i in chemical_name.strip().split('-'):\n",
    "            if i in breakpoint_list:\n",
    "                return True\n",
    "        else:\n",
    "            return False\n",
    "\n",
    "    try:\n",
    "        tt_ele_cla = ctg.tt_classifer(item_file.ope_list())\n",
    "        tt_re = ctg.ht_ident(tt_ele_cla)\n",
    "    except ctg.NoTemTimeError as e:\n",
    "        lgrd.warning('{}_{}:{}'.format(item_name, repr(e), str(e)))\n",
    "        csv_cont[1] = csv_cont[1] + 'T'\n",
    "        tt_re = {'temp': '', 'temp_u': '', 'time': '', 'time_u': ''}\n",
    "    except (TypeError, ValueError) as e:\n",
    "        lgrd.warn('{}_{}:{}'.format(item_name, repr(e), str(e)))\n",
    "        csv_cont[1] = csv_cont[1] + 'T'\n",
    "        tt_re = {'temp': '', 'temp_u': '', 'time': '', 'time_u': ''}\n",
    "\n",
    "    for i in ['temp', 'temp_u', 'time', 'time_u']:\n",
    "        csv_cont.append(onlystr(tt_re[i]))\n",
    "\n",
    "    try:\n",
    "        item_yield = ctg.yield_out(item_file.yield_list())\n",
    "    except Exception as err:\n",
    "        lgrd.warn('{}_{}:{}'.format(item_name, repr(err), str(err)))\n",
    "        item_yield = None\n",
    "    finally:\n",
    "        if item_yield is None:\n",
    "            csv_cont.append('')\n",
    "        else:\n",
    "            csv_cont.append(item_yield)\n",
    "    # 到这, 已经前面的坑全部占了\n",
    "\n",
    "    item_metal = data_dict[item_name]['metal'].split(',')\n",
    "\n",
    "    item_metal = set([x.strip() for x in item_metal])\n",
    "\n",
    "    metal_cont = []\n",
    "    chem_cont = []\n",
    "\n",
    "\n",
    "    try:\n",
    "        item_chemical_list_row = ctg.cc_i(item_file.molecular_list())\n",
    "        item_chemical_list = ctg.mixture_iden_no_qua(item_chemical_list_row)\n",
    "        item_chemical_out = ctg.cc_out_no_qua(item_chemical_list)\n",
    "        item_chemical_out = ctg.cc_table_no_qua(item_chemical_out)\n",
    "    except (ctg.ChemicalListError, ctg.NullChemicalNameError, ValueError, AssertionError, TypeError) as e:\n",
    "        csv_cont[1] = csv_cont[1] + 'C'\n",
    "        lgrd.warning('{}_{}:{}'.format(item_name, repr(e), str(e)))\n",
    "        item_chemical_out = []\n",
    "\n",
    "    if len(item_chemical_out) > 2:\n",
    "\n",
    "        for i in item_chemical_out:\n",
    "            if len(i) == 3 and i['name'] != \"\":\n",
    "                table = ['name', 'cid', 'chem_role']\n",
    "                chemicals_info = [i[x] for x in table]\n",
    "            else:\n",
    "                csv_cont[1] = csv_cont[1] + 'B'\n",
    "                chemicals_info = []\n",
    "\n",
    "            if len(chemicals_info) == 3:\n",
    "                if csv_con_bp(chemicals_info[0]):\n",
    "                    break\n",
    "                else:\n",
    "                    if chemicals_info[-1].strip() != \"\" and (chemicals_info[-1].strip() in item_metal) and (len(metal_cont) < 15):\n",
    "                        metal_cont = metal_cont + chemicals_info\n",
    "                    else:\n",
    "                        chem_cont = chem_cont + chemicals_info\n",
    "            else:\n",
    "                csv_cont[1] = csv_cont[1] + 'C'\n",
    "    else:\n",
    "        csv_cont[1] = csv_cont[1] + 'S'\n",
    "    lgrd.info(f'{item_name}:{metal_cont}\\t{chem_cont}')\n",
    "\n",
    "    if len(metal_cont) == 0:\n",
    "        csv_cont[1] = csv_cont[1] + 'M'\n",
    "\n",
    "    while len(metal_cont) < 15:\n",
    "        metal_cont = metal_cont + [\"\"]\n",
    "\n",
    "    if len(chem_cont) > 30:\n",
    "        chem_cont = chem_cont[:30]\n",
    "        csv_cont[1] = csv_cont[1] + 'L'\n",
    "    csv_cont = csv_cont + metal_cont + chem_cont\n",
    "    csv_cont = [onlystr(x) for x in csv_cont]\n",
    "    data_dict[item_name]['metal_extracted'] = metal_cont\n",
    "    data_dict[item_name]['condition_extracted'] = csv_cont\n",
    "    data_dict[item_name]['chemical_extracted'] = chem_cont"
   ],
   "metadata": {
    "collapsed": false,
    "pycharm": {
     "name": "#%%\n"
    }
   }
  },
  {
   "cell_type": "markdown",
   "source": [
    "The last 2 step:\n",
    "1. Check with the metal information in CoRE MOF Data  to confirm the information\n",
    "2. Generate a table"
   ],
   "metadata": {
    "collapsed": false,
    "pycharm": {
     "name": "#%% md\n"
    }
   }
  },
  {
   "cell_type": "code",
   "execution_count": 6,
   "outputs": [],
   "source": [
    "import pandas as pd\n",
    "pd_dict = []\n",
    "for i in range(len(data_dict)):\n",
    "\n",
    "    item_name = list(data_dict.keys())[i]\n",
    "\n",
    "    # if not all the Open Metal Sites extracted in the literature, we skip it.\n",
    "    extracted_metal_list = set(data_dict[item_name]['metal_extracted'][2::3])\n",
    "    for metal in data_dict[item_name]['metal']:\n",
    "        if metal not in extracted_metal_list:\n",
    "            continue\n",
    "    temp_dic= {}\n",
    "    temp_dic['filename'] = item_name\n",
    "    temp_dic['temperature'] =data_dict[item_name]['condition_extracted'][2]\n",
    "    temp_dic['temperature_unit'] =data_dict[item_name]['condition_extracted'][3]\n",
    "    temp_dic['time']=data_dict[item_name]['condition_extracted'][4]\n",
    "    temp_dic['unit']=data_dict[item_name]['condition_extracted'][5]\n",
    "    solves = []\n",
    "    additves = []\n",
    "    ind = 1\n",
    "    while ind < len(data_dict[item_name]['chemical_extracted']):\n",
    "        if data_dict[item_name]['chemical_extracted'][ind+1] == \"Sol\":\n",
    "            solves.append(data_dict[item_name]['chemical_extracted'][ind])\n",
    "        elif data_dict[item_name]['chemical_extracted'][ind+1] == \"Addi\":\n",
    "            solves.append(data_dict[item_name]['chemical_extracted'][ind])\n",
    "        ind += 3\n",
    "    while len(solves)<5:\n",
    "        solves.append('')\n",
    "    while len(additves)<5:\n",
    "        additves.append('')\n",
    "\n",
    "    for p in range(5):\n",
    "        temp_dic[f'solvent{p+1}'] = solves[p]\n",
    "\n",
    "    for p in range(5):\n",
    "        temp_dic[f'additive{p+1}'] = additves[p]\n",
    "\n",
    "    pd_dict.append(temp_dic)\n",
    "df = pd.DataFrame(pd_dict)"
   ],
   "metadata": {
    "collapsed": false,
    "pycharm": {
     "name": "#%%\n"
    }
   }
  },
  {
   "cell_type": "markdown",
   "source": [
    "In the end, we get the synthesis information about the structure:"
   ],
   "metadata": {
    "collapsed": false,
    "pycharm": {
     "name": "#%% md\n"
    }
   }
  },
  {
   "cell_type": "code",
   "source": [
    "df\n",
    "\n"
   ],
   "metadata": {
    "collapsed": false,
    "pycharm": {
     "name": "#%%\n"
    }
   },
   "execution_count": 7,
   "outputs": [
    {
     "data": {
      "text/plain": "       filename temperature temperature_unit time unit  solvent1  solvent2  \\\n0  NUCPEI_clean       105.0               °C   72    h     31374       962   \n1  NUCPIM_clean       105.0               °C   72    h     31374       962   \n\n  solvent3 solvent4 solvent5 additive1 additive2 additive3 additive4 additive5  \n0                                                                               \n1                                                                               ",
      "text/html": "<div>\n<style scoped>\n    .dataframe tbody tr th:only-of-type {\n        vertical-align: middle;\n    }\n\n    .dataframe tbody tr th {\n        vertical-align: top;\n    }\n\n    .dataframe thead th {\n        text-align: right;\n    }\n</style>\n<table border=\"1\" class=\"dataframe\">\n  <thead>\n    <tr style=\"text-align: right;\">\n      <th></th>\n      <th>filename</th>\n      <th>temperature</th>\n      <th>temperature_unit</th>\n      <th>time</th>\n      <th>unit</th>\n      <th>solvent1</th>\n      <th>solvent2</th>\n      <th>solvent3</th>\n      <th>solvent4</th>\n      <th>solvent5</th>\n      <th>additive1</th>\n      <th>additive2</th>\n      <th>additive3</th>\n      <th>additive4</th>\n      <th>additive5</th>\n    </tr>\n  </thead>\n  <tbody>\n    <tr>\n      <th>0</th>\n      <td>NUCPEI_clean</td>\n      <td>105.0</td>\n      <td>°C</td>\n      <td>72</td>\n      <td>h</td>\n      <td>31374</td>\n      <td>962</td>\n      <td></td>\n      <td></td>\n      <td></td>\n      <td></td>\n      <td></td>\n      <td></td>\n      <td></td>\n      <td></td>\n    </tr>\n    <tr>\n      <th>1</th>\n      <td>NUCPIM_clean</td>\n      <td>105.0</td>\n      <td>°C</td>\n      <td>72</td>\n      <td>h</td>\n      <td>31374</td>\n      <td>962</td>\n      <td></td>\n      <td></td>\n      <td></td>\n      <td></td>\n      <td></td>\n      <td></td>\n      <td></td>\n      <td></td>\n    </tr>\n  </tbody>\n</table>\n</div>"
     },
     "execution_count": 7,
     "metadata": {},
     "output_type": "execute_result"
    }
   ]
  }
 ],
 "metadata": {
  "kernelspec": {
   "display_name": "Python 3",
   "language": "python",
   "name": "python3"
  },
  "language_info": {
   "codemirror_mode": {
    "name": "ipython",
    "version": 2
   },
   "file_extension": ".py",
   "mimetype": "text/x-python",
   "name": "python",
   "nbconvert_exporter": "python",
   "pygments_lexer": "ipython2",
   "version": "2.7.6"
  }
 },
 "nbformat": 4,
 "nbformat_minor": 0
}